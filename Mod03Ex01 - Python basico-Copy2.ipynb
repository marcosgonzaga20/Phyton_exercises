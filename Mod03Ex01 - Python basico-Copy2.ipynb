{
 "cells": [
  {
   "cell_type": "markdown",
   "metadata": {},
   "source": [
    "### 01 - Teste de gravidez\n",
    "Escreva uma célula com controle de fluxos que tem como premissa a existência das seguintes variáveis:\n",
    "\n",
    "- ```sexo``` como ```str``` indicando os valores '**M**' para masculino e '**F**' para feminino  \n",
    "- ```beta_hcg``` que indica a quantidade do beta-HCG no sangue em mUI/mL.\n",
    "\n",
    "A sua tarefa é escrever um código que imprima como resultado \"indivíduo do sexo masculino\" quando sexo = 'M', caso sexo = 'F', se o valor de beta-HCG for maior que 5, retorne \"Positivo\" indicando que a paciente está grávida, e retorne \"Negativo\" caso contrário.\n",
    "\n",
    "Não mexa nos valores da variável ```sexo``` nem em ```beta_hcg```, e escreva um código que funcione para quaisquer valores possíveis de ambos: ```sexo``` = '**M**' ou '**F**' e ```beta_hcg``` assumindo valores inteiros positivos."
   ]
  },
  {
   "cell_type": "code",
   "execution_count": 11,
   "metadata": {},
   "outputs": [
    {
     "name": "stdout",
     "output_type": "stream",
     "text": [
      "Teste Negativo\n",
      "Sexo Masculino\n"
     ]
    }
   ],
   "source": [
    "sexo = 'M'\n",
    "beta_hcg = 0\n",
    "\n",
    "# seu código vem abaixo desta linha\n",
    "\n",
    "if beta_hcg > 5:\n",
    "    print('Teste Positivo')\n",
    "else:\n",
    "    print('Teste Negativo')\n",
    "if sexo == 'M':\n",
    "    print('Sexo Masculino')\n",
    "elif sexo == 'F':\n",
    "    print('Sexo Feminino')\n",
    "else:\n",
    "    print('Teste Negativo')\n",
    "\n"
   ]
  },
  {
   "cell_type": "markdown",
   "metadata": {},
   "source": [
    "### 02 - Renomeando variáveis\n",
    "\n",
    "Vamos ver adiante que uma forma de renomear variáveis de um conjunto de dados é através de dicionários - o dicionário deve conter como chave o nome original, associando a cada chave um único valor (tipo *str*) que contenha o nome novo.\n",
    "\n",
    "A sua tarefa é escrever um dicionário que possa ser utilizado para traduzir as variáveis ```name``` (nome), ```age``` (idade) e ```income``` (renda). Ou seja, esse dicionário deve relacionar as chaves *name, age* e *income* às suas respectivas traduções."
   ]
  },
  {
   "cell_type": "code",
   "execution_count": 14,
   "metadata": {},
   "outputs": [
    {
     "data": {
      "text/plain": [
       "{'name': 'Marcos Gonzaga', 'age': '41', 'income': '15000'}"
      ]
     },
     "execution_count": 14,
     "metadata": {},
     "output_type": "execute_result"
    }
   ],
   "source": [
    "dic_renomeacao = {'name': 'Marcos Gonzaga', 'age': '41', 'income': '15000'}\n",
    "dic_renomeacao"
   ]
  },
  {
   "cell_type": "markdown",
   "metadata": {},
   "source": [
    "### 03 - É divisível?\n",
    "A sua tarefa é escrever um código que indique se um número ```N``` é divisível por um número P. Escreva um programa que faça essa verificação para quaisquer combinações de ```N``` e ```M``` e devolva uma mensagem indicativa no output."
   ]
  },
  {
   "cell_type": "code",
   "execution_count": 4,
   "metadata": {},
   "outputs": [
    {
     "name": "stdout",
     "output_type": "stream",
     "text": [
      "Qual o número você deseja consultar?7\n",
      "Número divisível por 42\n"
     ]
    }
   ],
   "source": [
    "N = 42\n",
    "M = 7\n",
    "P = int(input('Qual o número você deseja consultar?'))\n",
    "\n",
    "#Seu código\n",
    "\n",
    "if N/P != int:\n",
    "    print('Número divisível por 42')\n",
    "else:\n",
    "    print('Número não divisível por 42')"
   ]
  },
  {
   "cell_type": "markdown",
   "metadata": {},
   "source": [
    "### 04 - Números primos\n",
    "> Um número **N** é primo se e somente se é divisível por 1, -1, por **N** e por -**N**.  \n",
    "\n",
    "Escreva um script que verifica se ```N``` é um número primo, verificando se ```N``` é divisível por todos os números de ```1``` a ```N-1```. Você vai precisar usar alguma ferramenta de *loop* que você aprendeu para isto. No final, devolva uma mensagem no output indicando se o número é primo ou não."
   ]
  },
  {
   "cell_type": "code",
   "execution_count": 46,
   "metadata": {},
   "outputs": [
    {
     "name": "stdout",
     "output_type": "stream",
     "text": [
      "1 é Primo\n",
      "2 Não é Primo\n",
      "3 Não é Primo\n",
      "4 Não é Primo\n",
      "5 Não é Primo\n",
      "6 Não é Primo\n",
      "7 Não é Primo\n",
      "8 Não é Primo\n",
      "9 Não é Primo\n",
      "10 Não é Primo\n",
      "11 Não é Primo\n",
      "12 Não é Primo\n",
      "13 Não é Primo\n",
      "14 Não é Primo\n",
      "15 Não é Primo\n",
      "16 Não é Primo\n",
      "17 Não é Primo\n",
      "18 Não é Primo\n",
      "19 Não é Primo\n",
      "20 Não é Primo\n",
      "21 Não é Primo\n",
      "22 Não é Primo\n",
      "23 Não é Primo\n",
      "24 Não é Primo\n",
      "25 Não é Primo\n",
      "26 Não é Primo\n",
      "27 Não é Primo\n",
      "28 Não é Primo\n",
      "29 Não é Primo\n",
      "30 Não é Primo\n",
      "31 Não é Primo\n",
      "32 Não é Primo\n",
      "33 Não é Primo\n",
      "34 Não é Primo\n",
      "35 Não é Primo\n",
      "36 Não é Primo\n",
      "37 Não é Primo\n",
      "38 Não é Primo\n",
      "39 Não é Primo\n",
      "40 Não é Primo\n",
      "41 Não é Primo\n",
      "42 Não é Primo\n",
      "43 Não é Primo\n",
      "44 Não é Primo\n",
      "45 Não é Primo\n",
      "46 Não é Primo\n",
      "47 é Primo\n"
     ]
    }
   ],
   "source": [
    "N = 47\n",
    "\n",
    "primo = True\n",
    "for M in range(1, N+1):\n",
    "    if(N % M) == 0:\n",
    "        print(f'{M} é Primo')\n",
    "    else:\n",
    "        print(f'{M} Não é Primo')"
   ]
  },
  {
   "cell_type": "markdown",
   "metadata": {},
   "source": [
    "### 05 - Desafio\n",
    "O algorítmo do exercício anterior não é o mais eficiente. O que você pode fazer para deixá-lo mais eficiente? Ou seja, executar menos comparações, portanto consumir menos tempo.\n",
    "1. Será que precisamos correr o loop até o final sempre?\n",
    "2. Será que precisamos mesmo verificar **todos** os números?\n",
    "3. Será que precisamos ir até N-1?\n",
    "\n",
    "Essas perguntas levam ao tipo de pensamento voltado a deixar um algoritmo mais eficiente. Veja se você consegue melhorar o seu."
   ]
  },
  {
   "cell_type": "code",
   "execution_count": 92,
   "metadata": {
    "scrolled": true
   },
   "outputs": [
    {
     "name": "stdout",
     "output_type": "stream",
     "text": [
      "O número 97 é primo\n"
     ]
    }
   ],
   "source": [
    "N = 97\n",
    "\n",
    "# seu código aqui\n",
    "primo = True\n",
    "for M in range(N, N+10):\n",
    "    if(N % M) == 0:\n",
    "        print(f'O número {M} é primo')\n",
    "        break\n",
    "    else:\n",
    "        continue\n",
    "        print(f'O número {M} não é primo')"
   ]
  },
  {
   "cell_type": "markdown",
   "metadata": {},
   "source": [
    "### 06 - Peso ideal 1\n",
    "O IMC (índice de massa corpórea) é um indicador de saúde mais bem aceito que o peso. Ele é calculado como:\n",
    "\n",
    "$$ IMC = \\dfrac{peso}{altura^2}$$\n",
    "\n",
    "Segundo a OMS, valores *normais* são entre 18.5 e 24.9.\n",
    "\n",
    "Sua tarefa é encontrar o ponto médio dessa faixa."
   ]
  },
  {
   "cell_type": "code",
   "execution_count": 19,
   "metadata": {},
   "outputs": [
    {
     "data": {
      "text/plain": [
       "21.7"
      ]
     },
     "execution_count": 19,
     "metadata": {},
     "output_type": "execute_result"
    }
   ],
   "source": [
    "imc_ideal = 21.7\n",
    "imc_ideal"
   ]
  },
  {
   "cell_type": "markdown",
   "metadata": {},
   "source": [
    "### 07 - Peso ideal 2\n",
    "Recebendo um valor de altura, encontre o peso '*ideal*' dessa pessoa, que fornece o IMC encontrado acima"
   ]
  },
  {
   "cell_type": "code",
   "execution_count": 23,
   "metadata": {},
   "outputs": [
    {
     "data": {
      "text/plain": [
       "62.712999999999994"
      ]
     },
     "execution_count": 23,
     "metadata": {},
     "output_type": "execute_result"
    }
   ],
   "source": [
    "altura = 1.70\n",
    "\n",
    "# Seu código\n",
    "peso_ideal = imc_ideal * (altura ** 2)\n",
    "peso_ideal"
   ]
  },
  {
   "cell_type": "markdown",
   "metadata": {},
   "source": [
    "### 08 - Peso ideal 3\n",
    "Dada uma lista contendo as alturas de pacientes, crie uma nova lista que contenha o peso '*ideal*' (que fornece o IMC calculado em **Peso ideal 1**) desses pacientes."
   ]
  },
  {
   "cell_type": "code",
   "execution_count": 28,
   "metadata": {},
   "outputs": [
    {
     "name": "stdout",
     "output_type": "stream",
     "text": [
      "[82.51424999999999, 91.19425, 62.712999999999994, 59.07824999999999]\n"
     ]
    }
   ],
   "source": [
    "lista_peso_ideal = []\n",
    "lista_alturas = [1.95, 2.05, 1.70, 1.65]\n",
    "\n",
    "# seu código\n",
    "for altura in lista_alturas:\n",
    "    lista_peso_ideal.append(imc_ideal * altura ** 2)\n",
    "print(lista_peso_ideal)\n"
   ]
  },
  {
   "cell_type": "markdown",
   "metadata": {},
   "source": [
    "### 09 - Peso ideal 4\n",
    "Dada uma lista de tuplas - cada elemento da lista é uma tupla contendo altura e peso de um paciente - crie uma nova lista com o IMC desses pacientes."
   ]
  },
  {
   "cell_type": "code",
   "execution_count": 108,
   "metadata": {},
   "outputs": [
    {
     "name": "stdout",
     "output_type": "stream",
     "text": [
      "[21.604938271604937, 25.71166207529844, 19.188070502453332]\n"
     ]
    }
   ],
   "source": [
    "Lista_imc = []\n",
    "altura_peso = [(1.8, 90), (1.65, 75), (1.91, 70)]\n",
    "for altura in altura_peso:\n",
    "    Lista_imc.append(peso[1] / (altura[0] ** 2))\n",
    "print(Lista_imc)\n"
   ]
  },
  {
   "cell_type": "markdown",
   "metadata": {},
   "source": [
    "### 10 - Peso ideal 5\n",
    "Dada uma lista de **listas** - cada elemento da lista é uma **lista** contendo altura e peso de um paciente, adicione mais um elemento à lista de cada paciente contendo o IMC do paciente. Verifique também se é 'baixo', 'normal' ou 'alto' segundo os padrões da OMS em que normal é entre 18.5 e 24.9.\n",
    "\n",
    "Reflexão: por que no problema anterior temos que criar uma nova lista, e não podemos adicionar os dados de cada indivíduo à tupla?"
   ]
  },
  {
   "cell_type": "code",
   "execution_count": 12,
   "metadata": {},
   "outputs": [
    {
     "data": {
      "text/plain": [
       "[[1.8, 90, 'alto'], [1.65, 75, 'alto'], [1.91, 70, 'normal']]"
      ]
     },
     "execution_count": 12,
     "metadata": {},
     "output_type": "execute_result"
    }
   ],
   "source": [
    "altura_peso = [[1.80, 90, 'alto'], [1.65, 75, 'alto'], [1.91, 70, 'normal']]\n",
    "\n",
    "# seu código\n",
    "\n",
    "altura_peso"
   ]
  },
  {
   "cell_type": "code",
   "execution_count": null,
   "metadata": {},
   "outputs": [],
   "source": [
    "#Na lista anterior não podemos adicionar os dados pois são tuplas entre parenteses, que caracteriza dados ordenados e imnutáveis"
   ]
  }
 ],
 "metadata": {
  "kernelspec": {
   "display_name": "Python 3 (ipykernel)",
   "language": "python",
   "name": "python3"
  },
  "language_info": {
   "codemirror_mode": {
    "name": "ipython",
    "version": 3
   },
   "file_extension": ".py",
   "mimetype": "text/x-python",
   "name": "python",
   "nbconvert_exporter": "python",
   "pygments_lexer": "ipython3",
   "version": "3.9.7"
  }
 },
 "nbformat": 4,
 "nbformat_minor": 4
}
